{
 "cells": [
  {
   "cell_type": "code",
   "execution_count": 1,
   "metadata": {
    "collapsed": true
   },
   "outputs": [],
   "source": [
    "import os\n",
    "import numpy as np\n",
    "import tensorflow as tf\n",
    "from tensorflow.examples.tutorials.mnist import input_data\n",
    "import time"
   ]
  },
  {
   "cell_type": "code",
   "execution_count": 2,
   "metadata": {
    "collapsed": true
   },
   "outputs": [],
   "source": [
    "# Define paramaters for the model\n",
    "learning_rate = 0.01\n",
    "batch_size = 128\n",
    "n_epochs = 40"
   ]
  },
  {
   "cell_type": "markdown",
   "metadata": {},
   "source": [
    "Step 1: Read in data<br>\n",
    "using TF Learn's built in function to load MNIST data to the folder data/mnist"
   ]
  },
  {
   "cell_type": "code",
   "execution_count": 3,
   "metadata": {
    "collapsed": false
   },
   "outputs": [
    {
     "name": "stdout",
     "output_type": "stream",
     "text": [
      "Extracting ../data/mnist/train-images-idx3-ubyte.gz\n",
      "Extracting ../data/mnist/train-labels-idx1-ubyte.gz\n",
      "Extracting ../data/mnist/t10k-images-idx3-ubyte.gz\n",
      "Extracting ../data/mnist/t10k-labels-idx1-ubyte.gz\n"
     ]
    }
   ],
   "source": [
    "mnist = input_data.read_data_sets('../data/mnist', one_hot=True) "
   ]
  },
  {
   "cell_type": "markdown",
   "metadata": {},
   "source": [
    "Step 2: create placeholders for features and labels<br>\n",
    "each image in the MNIST data is of shape 28*28 = 784<br>\n",
    "therefore, each image is represented with a 1x784 tensor<br>\n",
    "there are 10 classes for each image, corresponding to digits 0 - 9.<br>\n",
    "Features are of the type float, and labels are of the type int<br>"
   ]
  },
  {
   "cell_type": "code",
   "execution_count": 11,
   "metadata": {
    "collapsed": false
   },
   "outputs": [],
   "source": [
    "n_in = 28 * 28\n",
    "n_out = 10\n",
    "\n",
    "X = tf.placeholder(shape=[None, n_in], dtype=tf.float64, name='x')\n",
    "Y_true = tf.placeholder(shape=[None, n_out], dtype=tf.float64, name='y_true')"
   ]
  },
  {
   "cell_type": "markdown",
   "metadata": {},
   "source": [
    "Step 3: create weights and bias<br>\n",
    "weights and biases are initialized to 0<br>\n",
    "shape of w depends on the dimension of X and Y so that Y = X * w + b<br>\n",
    "shape of b depends on Y<br>"
   ]
  },
  {
   "cell_type": "code",
   "execution_count": 12,
   "metadata": {
    "collapsed": true
   },
   "outputs": [],
   "source": [
    "W = tf.Variable(tf.zeros(shape=[n_in, n_out], dtype=tf.float64), name='W')\n",
    "b = tf.Variable(tf.zeros(shape=[n_out], dtype=tf.float64), name='b')"
   ]
  },
  {
   "cell_type": "markdown",
   "metadata": {},
   "source": [
    "Step 4: build model<br>\n",
    "the model that returns the logits.<br>\n",
    "this logits will be later passed through softmax layer<br>\n",
    "to get the probability distribution of possible label of the image<br>\n",
    "DO NOT DO SOFTMAX HERE<br>"
   ]
  },
  {
   "cell_type": "code",
   "execution_count": 18,
   "metadata": {
    "collapsed": true
   },
   "outputs": [],
   "source": [
    "y = tf.matmul(X, W) + b"
   ]
  },
  {
   "cell_type": "markdown",
   "metadata": {},
   "source": [
    "Step 5: define loss function<br>\n",
    "use cross entropy loss of the real labels with the softmax of logits<br>\n",
    "use the method:<br>\n",
    "tf.nn.softmax_cross_entropy_with_logits(logits, Y)<br>\n",
    "then use tf.reduce_mean to get the mean loss of the batch<br>"
   ]
  },
  {
   "cell_type": "code",
   "execution_count": 19,
   "metadata": {
    "collapsed": false
   },
   "outputs": [],
   "source": [
    "loss = tf.reduce_mean(tf.nn.softmax_cross_entropy_with_logits(logits=y, labels=Y_true))"
   ]
  },
  {
   "cell_type": "markdown",
   "metadata": {},
   "source": [
    "Step 6: define training op<br>\n",
    "using gradient descent to minimize loss"
   ]
  },
  {
   "cell_type": "code",
   "execution_count": 20,
   "metadata": {
    "collapsed": false
   },
   "outputs": [
    {
     "name": "stdout",
     "output_type": "stream",
     "text": [
      "Average loss epoch 0: 1.2859400212588248\n",
      "Average loss epoch 1: 0.7324258651362783\n",
      "Average loss epoch 2: 0.600387707078469\n",
      "Average loss epoch 3: 0.5396287602657766\n",
      "Average loss epoch 4: 0.493969367584062\n",
      "Average loss epoch 5: 0.47161817977724513\n",
      "Average loss epoch 6: 0.45240057021302443\n",
      "Average loss epoch 7: 0.4339049290471931\n",
      "Average loss epoch 8: 0.4280368701806408\n",
      "Average loss epoch 9: 0.40841430198030065\n",
      "Average loss epoch 10: 0.4066196124072031\n",
      "Average loss epoch 11: 0.3942601154938293\n",
      "Average loss epoch 12: 0.39464142936806373\n",
      "Average loss epoch 13: 0.3809190311148762\n",
      "Average loss epoch 14: 0.38237650445227167\n",
      "Average loss epoch 15: 0.3721887163304999\n",
      "Average loss epoch 16: 0.36970143697056196\n",
      "Average loss epoch 17: 0.3672793662403655\n",
      "Average loss epoch 18: 0.36221823140612824\n",
      "Average loss epoch 19: 0.36060676893627663\n",
      "Average loss epoch 20: 0.3559168036946575\n",
      "Average loss epoch 21: 0.3550719389070387\n",
      "Average loss epoch 22: 0.3534194949522498\n",
      "Average loss epoch 23: 0.347223767894084\n",
      "Average loss epoch 24: 0.3466184336642724\n",
      "Average loss epoch 25: 0.3415388073431593\n",
      "Average loss epoch 26: 0.3446948609338165\n",
      "Average loss epoch 27: 0.3398050538334307\n",
      "Average loss epoch 28: 0.3394207117236342\n",
      "Average loss epoch 29: 0.3360378881875494\n",
      "Average loss epoch 30: 0.33399390060345163\n",
      "Average loss epoch 31: 0.3343409830217326\n",
      "Average loss epoch 32: 0.3328798625615757\n",
      "Average loss epoch 33: 0.33142740259752673\n",
      "Average loss epoch 34: 0.3284704639697671\n",
      "Average loss epoch 35: 0.3269181496180628\n",
      "Average loss epoch 36: 0.3249895594883866\n",
      "Average loss epoch 37: 0.3218801287577248\n",
      "Average loss epoch 38: 0.3292892462326913\n",
      "Average loss epoch 39: 0.32328616570192525\n",
      "Total time: 20.051480293273926 seconds\n",
      "Optimization Finished!\n",
      "Accuracy 0.9153\n"
     ]
    }
   ],
   "source": [
    "with tf.Session() as sess:\n",
    "    start_time = time.time()\n",
    "    sess.run(tf.global_variables_initializer())\n",
    "    n_batches = int(mnist.train.num_examples/batch_size)\n",
    "    train_step = tf.train.GradientDescentOptimizer(learning_rate).minimize(loss)\n",
    "\n",
    "    for i in range(n_epochs): # train the model n_epochs times\n",
    "        total_loss = 0\n",
    "\n",
    "        for _ in range(n_batches):\n",
    "            X_batch, Y_batch = mnist.train.next_batch(batch_size)\n",
    "            _, loss_batch = sess.run([train_step, loss], {X: X_batch, Y_true: Y_batch})\n",
    "            \n",
    "            total_loss += loss_batch\n",
    "        print('Average loss epoch {0}: {1}'.format(i, total_loss/n_batches))\n",
    "\n",
    "    print('Total time: {0} seconds'.format(time.time() - start_time))\n",
    "\n",
    "    print('Optimization Finished!') # should be around 0.35 after 25 epochs\n",
    "\n",
    "    # test the model\n",
    "    preds = tf.nn.softmax(y)\n",
    "    correct_preds = tf.equal(tf.argmax(preds, 1), tf.argmax(Y_true, 1))\n",
    "    accuracy = tf.reduce_sum(tf.cast(correct_preds, tf.float32)) # need numpy.count_nonzero(boolarr) :(\n",
    "    \n",
    "    n_batches = int(mnist.test.num_examples/batch_size)\n",
    "    total_correct_preds = 0\n",
    "    \n",
    "    for i in range(n_batches):\n",
    "        X_batch, Y_batch = mnist.test.next_batch(batch_size)\n",
    "        accuracy_batch = sess.run(accuracy, feed_dict={X: X_batch, Y_true: Y_batch})\n",
    "        total_correct_preds += accuracy_batch\n",
    "\n",
    "    print('Accuracy {0}'.format(total_correct_preds/mnist.test.num_examples))"
   ]
  },
  {
   "cell_type": "code",
   "execution_count": null,
   "metadata": {
    "collapsed": true
   },
   "outputs": [],
   "source": []
  }
 ],
 "metadata": {
  "kernelspec": {
   "display_name": "Python 3",
   "language": "python",
   "name": "python3"
  },
  "language_info": {
   "codemirror_mode": {
    "name": "ipython",
    "version": 3
   },
   "file_extension": ".py",
   "mimetype": "text/x-python",
   "name": "python",
   "nbconvert_exporter": "python",
   "pygments_lexer": "ipython3",
   "version": "3.6.0"
  }
 },
 "nbformat": 4,
 "nbformat_minor": 2
}
